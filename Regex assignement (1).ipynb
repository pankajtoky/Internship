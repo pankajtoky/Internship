{
 "cells": [
  {
   "cell_type": "code",
   "execution_count": 3,
   "id": "6c6849da",
   "metadata": {},
   "outputs": [
    {
     "name": "stdout",
     "output_type": "stream",
     "text": [
      "['ercises', 'exercises']\n"
     ]
    }
   ],
   "source": [
    "answer -2\n",
    "import re\n",
    "text= 'Python Exercises, PHP exercises.'\n",
    "list= re.findall (\"[ae]\\w+\", text)\n",
    "print (list)"
   ]
  },
  {
   "cell_type": "code",
   "execution_count": 8,
   "id": "e3999f1a",
   "metadata": {},
   "outputs": [
    {
     "name": "stdout",
     "output_type": "stream",
     "text": [
      "216.48.78.191\n"
     ]
    }
   ],
   "source": [
    "answer-13\n",
    "import re\n",
    "ip= \"216.048.078.191\"\n",
    "string = re.sub('\\.[0]*', '.', ip)\n",
    "print (string)"
   ]
  },
  {
   "cell_type": "markdown",
   "id": "277a9baf",
   "metadata": {},
   "source": []
  },
  {
   "cell_type": "code",
   "execution_count": 30,
   "id": "41cb4d0e",
   "metadata": {},
   "outputs": [
    {
     "name": "stdout",
     "output_type": "stream",
     "text": [
      "['the', 'quick', 'brown', 'fox', 'jumps', 'over', 'the', 'lazy', 'dog']\n"
     ]
    }
   ],
   "source": [
    "answer-4\n",
    "import re\n",
    "text = 'the quick brown fox jumps over the lazy dog.'\n",
    "print(re.findall(r\"\\b\\w{3,5}\\b\", text))\n"
   ]
  },
  {
   "cell_type": "code",
   "execution_count": 34,
   "id": "a1e4de88",
   "metadata": {},
   "outputs": [
    {
     "name": "stdout",
     "output_type": "stream",
     "text": [
      "Found \"fox\" in \"The quick brown fox jumps over the lazy dog.\" from 16 to 19 \n"
     ]
    }
   ],
   "source": [
    "answer-16\n",
    "import re \n",
    "pattern = 'fox'\n",
    "text= 'The quick brown fox jumps over the lazy dog.'\n",
    "match = re.search(pattern,text)\n",
    "s=match.start()\n",
    "e=match.end()\n",
    "print ('Found \"%s\" in \"%s\" from %d to %d ' % \\\n",
    "       (match.re.pattern, match.string, s, e))"
   ]
  },
  {
   "cell_type": "code",
   "execution_count": 38,
   "id": "3771c923",
   "metadata": {},
   "outputs": [
    {
     "name": "stdout",
     "output_type": "stream",
     "text": [
      "['quick', 'brown', 'jumps', 'over', 'lazy']\n"
     ]
    }
   ],
   "source": [
    "answer-3\n",
    "import re\n",
    "text = 'The quick brown fox jumps over the lazy dog.'\n",
    "print(re.findall(r\"\\b\\w{4,}\\b\", text))"
   ]
  },
  {
   "cell_type": "code",
   "execution_count": 36,
   "id": "ae57b2ea",
   "metadata": {},
   "outputs": [
    {
     "name": "stdout",
     "output_type": "stream",
     "text": [
      "Searching for \"fox\" in \"The quick brown fox jumps over the lazy dog.\" ->\n",
      "Matched\n",
      "Searching for \"dog\" in \"The quick brown fox jumps over the lazy dog.\" ->\n",
      "Matched\n",
      "Searching for \"horse\" in \"The quick brown fox jumps over the lazy dog.\" ->\n",
      "Not Matched\n"
     ]
    }
   ],
   "source": [
    "answer 15\n",
    "import re \n",
    "patterns = ['fox', 'dog', 'horse']\n",
    "text= 'The quick brown fox jumps over the lazy dog.'\n",
    "for pattern in patterns:\n",
    "    print ('Searching for \"%s\" in \"%s\" ->' % (pattern,text),)\n",
    "    if re.search(pattern,text):\n",
    "        print ('Matched')\n",
    "    else:\n",
    "        print ('Not Matched')\n",
    "        \n",
    "            "
   ]
  },
  {
   "cell_type": "code",
   "execution_count": 38,
   "id": "7a9973b3",
   "metadata": {},
   "outputs": [
    {
     "name": "stdout",
     "output_type": "stream",
     "text": [
      "Found \"\"exercises\" \n",
      "Found \"\"exercises\" \n",
      "Found \"\"exercises\" \n"
     ]
    }
   ],
   "source": [
    "answer 17\n",
    "import re\n",
    "text = 'Python exercises, PHP exercises, C# exercises'\n",
    "pattern = 'exercises'\n",
    "for match in re.findall(pattern,text):\n",
    "    print('Found \"\"%s\" ' %match)"
   ]
  },
  {
   "cell_type": "code",
   "execution_count": 41,
   "id": "c454fff3",
   "metadata": {},
   "outputs": [
    {
     "name": "stdout",
     "output_type": "stream",
     "text": [
      "Found \"exercises\" at 7:16\n",
      "Found \"exercises\" at 22:31\n",
      "Found \"exercises\" at 36:45\n"
     ]
    }
   ],
   "source": [
    "answer =18 \n",
    "import re\n",
    "text = 'Python exercises, PHP exercises, C# exercises'\n",
    "pattern= 'exercises'\n",
    "for match in re.finditer(pattern,text):\n",
    "    s= match.start()\n",
    "    e=match.end()\n",
    "    print ('Found \"%s\" at %d:%d'% (text[s:e], s,e))\n",
    "    "
   ]
  },
  {
   "cell_type": "code",
   "execution_count": 39,
   "id": "d4ec27d0",
   "metadata": {},
   "outputs": [
    {
     "name": "stdout",
     "output_type": "stream",
     "text": [
      "Found a match!\n",
      "Found a match!\n",
      "Not matched!\n",
      "Not matched!\n",
      "Not matched!\n",
      "Found a match!\n"
     ]
    }
   ],
   "source": [
    "answer-24\n",
    "import re\n",
    "def text_match(text):\n",
    "    patterns = '[A-Z]+[a-z]+$'\n",
    "    if re.search(patterns,text):\n",
    "        return 'Found a match!'\n",
    "    else:\n",
    "        return('Not matched!')\n",
    "print(text_match(\"AaBbGg\"))\n",
    "print(text_match(\"Python\"))\n",
    "print(text_match(\"python\"))\n",
    "print(text_match(\"PYTHON\"))\n",
    "print(text_match(\"aA\"))\n",
    "print(text_match(\"Aa\"))"
   ]
  },
  {
   "cell_type": "code",
   "execution_count": 45,
   "id": "6762c215",
   "metadata": {},
   "outputs": [
    {
     "data": {
      "text/plain": [
       "['Importance', 'Of', 'Regular', 'Expressions', 'In', 'Python']"
      ]
     },
     "execution_count": 45,
     "metadata": {},
     "output_type": "execute_result"
    }
   ],
   "source": [
    "answer -7\n",
    "import re \n",
    "re.findall('[A-Z][^A-Z]*' , 'ImportanceOfRegularExpressionsInPython')"
   ]
  },
  {
   "cell_type": "code",
   "execution_count": 47,
   "id": "6241d3e8",
   "metadata": {},
   "outputs": [
    {
     "name": "stdout",
     "output_type": "stream",
     "text": [
      "\n",
      "\n",
      "\n",
      "\n",
      "\n",
      "\n",
      "\n",
      "\n",
      "15\n",
      "\n",
      "\n",
      "\n",
      "\n",
      "\n",
      "\n",
      "\n",
      "\n",
      "30\n",
      "\n",
      "\n",
      "\n",
      "\n",
      "\n",
      "\n",
      "\n",
      "40\n"
     ]
    }
   ],
   "source": [
    "ANSWER-21\n",
    "import re\n",
    "text= \"Fifteen 15 ,Thirty 30,Fourty 40\"\n",
    "result=re.split(\"\\D\", text)\n",
    "for element in result:\n",
    "    print (element)"
   ]
  },
  {
   "cell_type": "code",
   "execution_count": 40,
   "id": "7034996b",
   "metadata": {},
   "outputs": [
    {
     "name": "stdout",
     "output_type": "stream",
     "text": [
      "The string is :\n",
      "pesona3747\n",
      "The string ends with alpha num character\n",
      "\n",
      "The string is :\n",
      "Ashok@\n",
      "The string does not ends with alpha num character\n"
     ]
    }
   ],
   "source": [
    "answer-26\n",
    "import re\n",
    "\n",
    "re_expression = '[a-zA-Z0-9]$'\n",
    "\n",
    "def check_string(my_string):\n",
    "    if(re.search(re_expression,my_string)):\n",
    "        print(\"The string ends with alpha num character\")\n",
    "    else:\n",
    "        print(\"The string does not ends with alpha num character\")\n",
    "\n",
    "        \n",
    "my_string_1 = \"pesona3747\"\n",
    "print(\"The string is :\")\n",
    "print(my_string_1)\n",
    "check_string(my_string_1)\n",
    "\n",
    "my_string_2 = \"Ashok@\"\n",
    "print(\"\\nThe string is :\")\n",
    "print(my_string_2)\n",
    "check_string(my_string_2)"
   ]
  },
  {
   "cell_type": "code",
   "execution_count": 95,
   "id": "4c117f1b",
   "metadata": {},
   "outputs": [
    {
     "name": "stdout",
     "output_type": "stream",
     "text": [
      "0.333\n"
     ]
    }
   ],
   "source": [
    "answer-20\n",
    "from decimal import Decimal, getcontext\n",
    "\n",
    "getcontext().prec = 3\n",
    "\n",
    "result= Decimal('3') / Decimal('9')\n",
    "print(result)"
   ]
  },
  {
   "cell_type": "code",
   "execution_count": 93,
   "id": "30b29da4",
   "metadata": {},
   "outputs": [
    {
     "name": "stdout",
     "output_type": "stream",
     "text": [
      " following example creates ArrayList a capacity elements. 4 elements added Arryalist arraylist trimmed accordingly\n"
     ]
    }
   ],
   "source": [
    "answer-30\n",
    "import re\n",
    "text = \"The following example creates an ArrayList with a capacity of 50 elements. 4 elements are added to the Arryalist and the arraylist is trimmed accordingly\" \n",
    "# remove words between between 2 and 4\n",
    "shortword= re.compile(r'\\W*\\b\\w{2,4}\\b')\n",
    "print(shortword.sub('', text))\n",
    "\n"
   ]
  },
  {
   "cell_type": "code",
   "execution_count": 96,
   "id": "8dcbfbc1",
   "metadata": {},
   "outputs": [
    {
     "name": "stdout",
     "output_type": "stream",
     "text": [
      "Regular Expression1 Isan2importanttopic3inpython\n"
     ]
    }
   ],
   "source": [
    "answer-9\n",
    "import re\n",
    "def capital_words_spaces(str1):\n",
    "  return re.sub(r\"(\\w)([A-Z])\", r\"\\1 \\2\", str1)\n",
    "\n",
    "\n",
    "print(capital_words_spaces(\"RegularExpression1Isan2importanttopic3inpython\"))"
   ]
  },
  {
   "cell_type": "code",
   "execution_count": null,
   "id": "91ee8fd0",
   "metadata": {},
   "outputs": [],
   "source": []
  },
  {
   "cell_type": "code",
   "execution_count": null,
   "id": "cf478a33",
   "metadata": {},
   "outputs": [],
   "source": []
  },
  {
   "cell_type": "code",
   "execution_count": null,
   "id": "aa2dcff9",
   "metadata": {},
   "outputs": [],
   "source": [
    "answer 15\n",
    "import re \n",
    "patterns = ['fox', 'dog', 'horse']\n",
    "text= 'The quick brown fox jumps over the lazy dog.'\n",
    "for pattern in patterns:\n",
    "    print ('Searching for \"%s\" in \"%s\" ->' % (pattern,text),)\n",
    "    if re.search(pattern,text):\n",
    "        print ('Matched')\n",
    "    else:\n",
    "        print ('Not Matched')"
   ]
  },
  {
   "cell_type": "code",
   "execution_count": 92,
   "id": "042ff18f",
   "metadata": {},
   "outputs": [
    {
     "name": "stdout",
     "output_type": "stream",
     "text": [
      "[example.com,hr@fliprobo.com,github.com,Hellodatascience wordl]\n"
     ]
    }
   ],
   "source": [
    "answer-6\n",
    "document = '[example(.com),hr@fliprobo(.com),github.com,Hello(datascience wordl)]'\n",
    "\n",
    "document = re.sub(r'[()]', '', document)\n",
    "\n",
    "print(document)"
   ]
  },
  {
   "cell_type": "code",
   "execution_count": 50,
   "id": "72c7d644",
   "metadata": {},
   "outputs": [
    {
     "name": "stdout",
     "output_type": "stream",
     "text": [
      "Not matched!\n",
      "Found a match!\n"
     ]
    }
   ],
   "source": [
    "answer-11\n",
    "import re\n",
    "def text_match(text):\n",
    "        patterns = '^[a-zA-Z0-9_]*$'\n",
    "        if re.search(patterns,  text):\n",
    "                return 'Found a match!'\n",
    "        else:\n",
    "                return('Not matched!')\n",
    "\n",
    "print(text_match(\"The quick brown fox jumps over the lazy dog.\"))\n",
    "print(text_match(\"Python_Exercises_1\"))"
   ]
  },
  {
   "cell_type": "code",
   "execution_count": 41,
   "id": "452827eb",
   "metadata": {
    "scrolled": true
   },
   "outputs": [
    {
     "name": "stdout",
     "output_type": "stream",
     "text": [
      "Hello hello world world\n"
     ]
    }
   ],
   "source": [
    "answer -25\n",
    "import re\n",
    "\n",
    "def removeduplicatesFromText(text):\n",
    "    regex = r'\\b(\\w+)(?:\\W+\\1\\b)+'\n",
    "    return re.sub(regex, r'\\1',text, flags= re.IGNORECASE)\n",
    "\n",
    "str1 = \"Hello hello world world\"\n",
    "print(removeDuplicatesFromText(str1))"
   ]
  },
  {
   "cell_type": "code",
   "execution_count": 35,
   "id": "143fd047",
   "metadata": {},
   "outputs": [
    {
     "name": "stdout",
     "output_type": "stream",
     "text": [
      "True\n",
      "False\n"
     ]
    }
   ],
   "source": [
    "answer-12\n",
    "import re\n",
    "def match_num(string):\n",
    "    text=re.compile(r\"^5\")\n",
    "    if text.match(string):\n",
    "        return True\n",
    "    else:\n",
    "        return False\n",
    "print(match_num('5-2445861'))\n",
    "print(match_num('6-2545861'))"
   ]
  },
  {
   "cell_type": "code",
   "execution_count": 10,
   "id": "945882f0",
   "metadata": {},
   "outputs": [
    {
     "name": "stdout",
     "output_type": "stream",
     "text": [
      "Original date in YYY-MM-DD Format: 2026-01-02\n",
      "New date in DD-MM-YYYY Format:  02-01-2026\n"
     ]
    }
   ],
   "source": [
    "answer -19\n",
    "import re\n",
    "def change_date_format(dt):\n",
    "   return re.sub(r'(\\d{4})-(\\d{1,2})-(\\d{1,2})', '\\\\3-\\\\2-\\\\1', dt)\n",
    "dt1 = \"2026-01-02\"\n",
    "print(\"Original date in YYY-MM-DD Format:\", dt1)\n",
    "print(\"New date in DD-MM-YYYY Format: \", change_date_format(dt1))"
   ]
  },
  {
   "cell_type": "code",
   "execution_count": 91,
   "id": "f60a2550",
   "metadata": {},
   "outputs": [
    {
     "ename": "SyntaxError",
     "evalue": "unmatched ')' (<ipython-input-91-6e3019ba4f4d>, line 6)",
     "output_type": "error",
     "traceback": [
      "\u001b[1;36m  File \u001b[1;32m\"<ipython-input-91-6e3019ba4f4d>\"\u001b[1;36m, line \u001b[1;32m6\u001b[0m\n\u001b[1;33m    print(capital_words_spaces)(\"RegularExpressionIsAnImportantTopicInPython\"))\u001b[0m\n\u001b[1;37m                                                                              ^\u001b[0m\n\u001b[1;31mSyntaxError\u001b[0m\u001b[1;31m:\u001b[0m unmatched ')'\n"
     ]
    }
   ],
   "source": []
  },
  {
   "cell_type": "code",
   "execution_count": 57,
   "id": "d2910ebf",
   "metadata": {},
   "outputs": [
    {
     "name": "stdout",
     "output_type": "stream",
     "text": [
      "The hashtags in \"RT@kapil_kaushik:#doltiwaal i mean#xzybc is hurt by #demonetization\" are :\n",
      "doltiwaal\n",
      "xzybc\n",
      "demonetization\n"
     ]
    }
   ],
   "source": [
    "answer27\n",
    "import re\n",
    "def extract_hashtags(text):\n",
    "    regex = \"#(\\w+)\"\n",
    "    hashtag_list = re.findall(regex,text)\n",
    "    print(\"The hashtags in \\\"\" + text + \"\\\" are :\")\n",
    "    for hashtag in hashtag_list:\n",
    "        print(hashtag)\n",
    "if __name__ == \"__main__\":\n",
    "    text1 = \"RT@kapil_kaushik:#doltiwaal i mean#xzybc is hurt by #demonetization\"\n",
    "    \n",
    "    extract_hashtags(text1)\n",
    "   "
   ]
  },
  {
   "cell_type": "code",
   "execution_count": 58,
   "id": "0ff0de88",
   "metadata": {},
   "outputs": [
    {
     "data": {
      "text/plain": [
       "'how much for the maple syrup   20 99  That s ridiculous   '"
      ]
     },
     "execution_count": 58,
     "metadata": {},
     "output_type": "execute_result"
    }
   ],
   "source": [
    ">>> s = \"how much for the maple syrup? $20.99? That's ridiculous!!!\"\n",
    ">>> re.sub(r'[^\\w]', ' ', s)\n",
    "\n"
   ]
  },
  {
   "cell_type": "code",
   "execution_count": 62,
   "id": "4c5d898d",
   "metadata": {},
   "outputs": [
    {
     "ename": "NameError",
     "evalue": "name 'answer' is not defined",
     "output_type": "error",
     "traceback": [
      "\u001b[1;31m---------------------------------------------------------------------------\u001b[0m",
      "\u001b[1;31mNameError\u001b[0m                                 Traceback (most recent call last)",
      "\u001b[1;32m<ipython-input-62-303c493d34b0>\u001b[0m in \u001b[0;36m<module>\u001b[1;34m\u001b[0m\n\u001b[1;32m----> 1\u001b[1;33m \u001b[0manswer\u001b[0m \u001b[1;33m-\u001b[0m\u001b[1;36m28\u001b[0m\u001b[1;33m\u001b[0m\u001b[1;33m\u001b[0m\u001b[0m\n\u001b[0m\u001b[0;32m      2\u001b[0m \u001b[0ms\u001b[0m \u001b[1;33m=\u001b[0m \u001b[1;34m\"@Jags123456 Bharat band on 28??&lt;ed&gt;&lt;U+00A0&gt;&lt;U+00BD&gt;&lt;ed&gt;&lt;U+00B8&gt;&lt;U+0082&gt;Those\"\u001b[0m\u001b[1;33m\u001b[0m\u001b[1;33m\u001b[0m\u001b[0m\n\u001b[0;32m      3\u001b[0m \u001b[0mre\u001b[0m\u001b[1;33m.\u001b[0m\u001b[0msub\u001b[0m\u001b[1;33m(\u001b[0m\u001b[1;34mr'[^\\w]'\u001b[0m\u001b[1;33m,\u001b[0m \u001b[1;34m' '\u001b[0m\u001b[1;33m,\u001b[0m \u001b[0ms\u001b[0m\u001b[1;33m)\u001b[0m\u001b[1;33m\u001b[0m\u001b[1;33m\u001b[0m\u001b[0m\n\u001b[0;32m      4\u001b[0m \u001b[1;34m'@Jags123456 Bharat band on  '\u001b[0m\u001b[1;33m\u001b[0m\u001b[1;33m\u001b[0m\u001b[0m\n",
      "\u001b[1;31mNameError\u001b[0m: name 'answer' is not defined"
     ]
    }
   ],
   "source": [
    "answer -28\n",
    ">>> s = \"@Jags123456 Bharat band on 28??&lt;ed&gt;&lt;U+00A0&gt;&lt;U+00BD&gt;&lt;ed&gt;&lt;U+00B8&gt;&lt;U+0082&gt;Those\"\n",
    ">>> re.sub(r'[^\\w]', ' ', s)\n",
    "'@Jags123456 Bharat band on  '"
   ]
  },
  {
   "cell_type": "code",
   "execution_count": 64,
   "id": "3c76496a",
   "metadata": {},
   "outputs": [
    {
     "name": "stdout",
     "output_type": "stream",
     "text": [
      "950\n"
     ]
    }
   ],
   "source": [
    "answer-22\n",
    "def extractMaximum(ss):\n",
    "    num, res = 0, 0\n",
    "     \n",
    "    for i in range(len(ss)):\n",
    "         \n",
    "        if ss[i] >= \"0\" and ss[i] <= \"9\":\n",
    "            num = num * 10 + int(int(ss[i]) - 0)\n",
    "        else:\n",
    "            res = max(res, num)\n",
    "            num = 0\n",
    "         \n",
    "    return max(res, num)\n",
    " \n",
    "ss = \"947, 896, 926, 524, 734, 950, 642\"\n",
    " \n",
    "print(extractMaximum(ss))"
   ]
  },
  {
   "cell_type": "code",
   "execution_count": 65,
   "id": "cde1d638",
   "metadata": {},
   "outputs": [
    {
     "name": "stdout",
     "output_type": "stream",
     "text": [
      "Python:Exercises::PHP:exercises:\n"
     ]
    }
   ],
   "source": [
    "answer-1\n",
    "import re\n",
    "text = 'Python Exercises, PHP exercises.'\n",
    "print(re.sub(\"[ ,.]\", \":\", text))"
   ]
  },
  {
   "cell_type": "code",
   "execution_count": 88,
   "id": "c3bd971c",
   "metadata": {},
   "outputs": [
    {
     "name": "stdout",
     "output_type": "stream",
     "text": [
      "['xyz@domain.com', 'xyz.abc@sdomain.domain.com.']\n"
     ]
    }
   ],
   "source": [
    "answer-10\n",
    "import re\n",
    "#string\n",
    "s = \"\"\"Hello my name is Data Science and my email address is xyz@domain.com\n",
    "        and alternate email address is xyz.abc@sdomain.domain.com.\"\"\"\n",
    "\n",
    "# \\S matches any non-whitespace character \n",
    "# @ for as in the Email \n",
    "# + for Repeats a character one or more times\n",
    "lst = re.findall('\\S+@\\S+', s)\n",
    "\n",
    "# Printing of List \n",
    "print(lst) "
   ]
  },
  {
   "cell_type": "code",
   "execution_count": 89,
   "id": "44e397f3",
   "metadata": {},
   "outputs": [
    {
     "name": "stdout",
     "output_type": "stream",
     "text": [
      "Hello hello world world\n"
     ]
    }
   ],
   "source": [
    "answer-25\n",
    "import re\n",
    "\n",
    "def removeduplicatesFromText(text):\n",
    "    regex = r'\\b(\\w+)(?:\\W+\\1\\b)+'\n",
    "    return re.sub(regex, r'\\1',text, flags= re.IGNORECASE)\n",
    "\n",
    "str1 = \"Hello hello world world\"\n",
    "print(removeDuplicatesFromText(str1))\n"
   ]
  },
  {
   "cell_type": "code",
   "execution_count": 97,
   "id": "832e887f",
   "metadata": {},
   "outputs": [
    {
     "ename": "SyntaxError",
     "evalue": "invalid character in identifier (<ipython-input-97-eeed4a5e37cd>, line 1)",
     "output_type": "error",
     "traceback": [
      "\u001b[1;36m  File \u001b[1;32m\"<ipython-input-97-eeed4a5e37cd>\"\u001b[1;36m, line \u001b[1;32m1\u001b[0m\n\u001b[1;33m    s=“RegularExpression1IsAn2ImportantTopic3InPython\"\u001b[0m\n\u001b[1;37m                                                    ^\u001b[0m\n\u001b[1;31mSyntaxError\u001b[0m\u001b[1;31m:\u001b[0m invalid character in identifier\n"
     ]
    }
   ],
   "source": [
    "answer-8\n",
    "s=“RegularExpression1IsAn2ImportantTopic3InPython\"\n",
    "re.sub('(\\d+(\\.\\d+)?)', r'\\1 ' , s).strip()\n"
   ]
  },
  {
   "cell_type": "code",
   "execution_count": 98,
   "id": "f910416e",
   "metadata": {},
   "outputs": [
    {
     "ename": "SyntaxError",
     "evalue": "unexpected character after line continuation character (<ipython-input-98-387d49bc0046>, line 6)",
     "output_type": "error",
     "traceback": [
      "\u001b[1;36m  File \u001b[1;32m\"<ipython-input-98-387d49bc0046>\"\u001b[1;36m, line \u001b[1;32m6\u001b[0m\n\u001b[1;33m    match = re.search(r\\)\u001b[0m\n\u001b[1;37m                         ^\u001b[0m\n\u001b[1;31mSyntaxError\u001b[0m\u001b[1;31m:\u001b[0m unexpected character after line continuation character\n"
     ]
    }
   ],
   "source": [
    "import datetime\n",
    "from datetime import date\n",
    "import re\n",
    "s= \"jason bday is on 12-09-22\"\n",
    "match = re.search\n",
    "match = re.search(r\\)\n"
   ]
  },
  {
   "cell_type": "code",
   "execution_count": null,
   "id": "6661d208",
   "metadata": {},
   "outputs": [],
   "source": [
    "answer-28\n",
    "import re\n",
    "\n",
    "org_string = \"Bharat band on U Arethare'\n",
    "pattern = 'U'\n",
    "\n",
    "mod_string = re.sub(pattern, '', org_string )\n",
    "\n",
    "print(mod_string)"
   ]
  }
 ],
 "metadata": {
  "kernelspec": {
   "display_name": "Python 3",
   "language": "python",
   "name": "python3"
  },
  "language_info": {
   "codemirror_mode": {
    "name": "ipython",
    "version": 3
   },
   "file_extension": ".py",
   "mimetype": "text/x-python",
   "name": "python",
   "nbconvert_exporter": "python",
   "pygments_lexer": "ipython3",
   "version": "3.8.8"
  }
 },
 "nbformat": 4,
 "nbformat_minor": 5
}
